{
 "cells": [
  {
   "cell_type": "markdown",
   "source": [
    "# bigsimr tutorial\n",
    "## Installation\n",
    "### Julia installation\n",
    "To install Julia on your machine, you can follow the instruction at Julia website at https://julialang.org/downloads/. Julia can also be installed in linux using the script below. It will create a folder named julia in the home folder and add necessary PATH to .bashrc file."
   ],
   "metadata": {
    "collapsed": false
   }
  },
  {
   "cell_type": "code",
   "execution_count": 1,
   "outputs": [],
   "source": [
    "# ! mkdir ~/julia\n",
    "# ! wget https://julialang-s3.julialang.org/bin/linux/x64/1.5/julia-1.5.3-linux-x86_64.tar.gz -O ~/julia/julia-1.5.3-linux-x86_64.tar.gz\n",
    "# ! tar zxvf ~/julia/julia-1.5.3-linux-x86_64.tar.gz -C ~/julia\n",
    "# ! echo \"export PATH='$PATH:$HOME/julia/julia-1.5.3/bin'\" >> ~/.bashrc"
   ],
   "metadata": {
    "collapsed": false,
    "pycharm": {
     "name": "#%%\n",
     "is_executing": false
    }
   }
  },
  {
   "cell_type": "markdown",
   "source": [
    "## bigsimr installation\n",
    "Install bigsimr and julia packages from pip using these commands. julia package is used to communicate with Julia from python."
   ],
   "metadata": {
    "collapsed": false,
    "pycharm": {
     "name": "#%% md\n"
    }
   }
  },
  {
   "cell_type": "code",
   "execution_count": 2,
   "outputs": [],
   "source": [
    "# ! pip install git+https://github.com/SchisslerGroup/python-bigsimr.git\n",
    "\n",
    "# Or dev version\n",
    "\n",
    "# ! pip install git+https://github.com/SchisslerGroup/python-bigsimr.git@dev\n",
    "\n",
    "# ! pip install julia"
   ],
   "metadata": {
    "collapsed": false,
    "pycharm": {
     "name": "#%%\n",
     "is_executing": false
    }
   }
  },
  {
   "cell_type": "markdown",
   "source": [
    "After that, setup function can be used to installed the necessary Julia packages for bigsimr."
   ],
   "metadata": {
    "collapsed": false
   }
  },
  {
   "cell_type": "code",
   "execution_count": 3,
   "outputs": [],
   "source": [
    "# from bigsimr import setup\n",
    "# setup()"
   ],
   "metadata": {
    "collapsed": false,
    "pycharm": {
     "name": "#%%\n",
     "is_executing": false
    }
   }
  },
  {
   "cell_type": "markdown",
   "source": [
    "## Simulation example\n",
    "### Importing necessary dependencies\n",
    "This line can be removed for better performance. However, it can lead to error in some system.\n",
    ">jl = Julia(compiled_modules=False)"
   ],
   "metadata": {
    "collapsed": false
   }
  },
  {
   "cell_type": "code",
   "execution_count": 4,
   "outputs": [],
   "source": [
    "from julia.api import Julia\n",
    "\n",
    "jl = Julia(compiled_modules=False)\n",
    "\n",
    "from julia import Bigsimr, Distributions\n",
    "\n",
    "import pandas as pd\n",
    "import numpy as np\n",
    "import seaborn as sns\n",
    "import matplotlib.pyplot as plt\n",
    "\n",
    "from scipy.stats import norm, lognorm"
   ],
   "metadata": {
    "collapsed": false,
    "pycharm": {
     "name": "#%%\n",
     "is_executing": false
    }
   }
  },
  {
   "cell_type": "markdown",
   "source": [
    "We're going to show the basic use and syntax of `Bigsimr` by using the New York air quality data set (`airquality`). We will focus specifically on the temperature (degrees Fahrenheit) and ozone level (parts per billion)."
   ],
   "metadata": {
    "collapsed": false
   }
  },
  {
   "cell_type": "code",
   "execution_count": 5,
   "metadata": {
    "pycharm": {
     "is_executing": false
    }
   },
   "outputs": [
    {
     "data": {
      "text/plain": "     Ozone  Solar.R  Wind  Temp  Month  Day\n0     41.0    190.0   7.4    67      5    1\n1     36.0    118.0   8.0    72      5    2\n2     12.0    149.0  12.6    74      5    3\n3     18.0    313.0  11.5    62      5    4\n4      NaN      NaN  14.3    56      5    5\n..     ...      ...   ...   ...    ...  ...\n148   30.0    193.0   6.9    70      9   26\n149    NaN    145.0  13.2    77      9   27\n150   14.0    191.0  14.3    75      9   28\n151   18.0    131.0   8.0    76      9   29\n152   20.0    223.0  11.5    68      9   30\n\n[153 rows x 6 columns]",
      "text/html": "<div>\n<style scoped>\n    .dataframe tbody tr th:only-of-type {\n        vertical-align: middle;\n    }\n\n    .dataframe tbody tr th {\n        vertical-align: top;\n    }\n\n    .dataframe thead th {\n        text-align: right;\n    }\n</style>\n<table border=\"1\" class=\"dataframe\">\n  <thead>\n    <tr style=\"text-align: right;\">\n      <th></th>\n      <th>Ozone</th>\n      <th>Solar.R</th>\n      <th>Wind</th>\n      <th>Temp</th>\n      <th>Month</th>\n      <th>Day</th>\n    </tr>\n  </thead>\n  <tbody>\n    <tr>\n      <th>0</th>\n      <td>41.0</td>\n      <td>190.0</td>\n      <td>7.4</td>\n      <td>67</td>\n      <td>5</td>\n      <td>1</td>\n    </tr>\n    <tr>\n      <th>1</th>\n      <td>36.0</td>\n      <td>118.0</td>\n      <td>8.0</td>\n      <td>72</td>\n      <td>5</td>\n      <td>2</td>\n    </tr>\n    <tr>\n      <th>2</th>\n      <td>12.0</td>\n      <td>149.0</td>\n      <td>12.6</td>\n      <td>74</td>\n      <td>5</td>\n      <td>3</td>\n    </tr>\n    <tr>\n      <th>3</th>\n      <td>18.0</td>\n      <td>313.0</td>\n      <td>11.5</td>\n      <td>62</td>\n      <td>5</td>\n      <td>4</td>\n    </tr>\n    <tr>\n      <th>4</th>\n      <td>NaN</td>\n      <td>NaN</td>\n      <td>14.3</td>\n      <td>56</td>\n      <td>5</td>\n      <td>5</td>\n    </tr>\n    <tr>\n      <th>...</th>\n      <td>...</td>\n      <td>...</td>\n      <td>...</td>\n      <td>...</td>\n      <td>...</td>\n      <td>...</td>\n    </tr>\n    <tr>\n      <th>148</th>\n      <td>30.0</td>\n      <td>193.0</td>\n      <td>6.9</td>\n      <td>70</td>\n      <td>9</td>\n      <td>26</td>\n    </tr>\n    <tr>\n      <th>149</th>\n      <td>NaN</td>\n      <td>145.0</td>\n      <td>13.2</td>\n      <td>77</td>\n      <td>9</td>\n      <td>27</td>\n    </tr>\n    <tr>\n      <th>150</th>\n      <td>14.0</td>\n      <td>191.0</td>\n      <td>14.3</td>\n      <td>75</td>\n      <td>9</td>\n      <td>28</td>\n    </tr>\n    <tr>\n      <th>151</th>\n      <td>18.0</td>\n      <td>131.0</td>\n      <td>8.0</td>\n      <td>76</td>\n      <td>9</td>\n      <td>29</td>\n    </tr>\n    <tr>\n      <th>152</th>\n      <td>20.0</td>\n      <td>223.0</td>\n      <td>11.5</td>\n      <td>68</td>\n      <td>9</td>\n      <td>30</td>\n    </tr>\n  </tbody>\n</table>\n<p>153 rows × 6 columns</p>\n</div>"
     },
     "metadata": {},
     "output_type": "execute_result",
     "execution_count": 5
    }
   ],
   "source": [
    "df = pd.read_csv('airquality.csv')\n",
    "df"
   ]
  },
  {
   "cell_type": "code",
   "execution_count": 6,
   "outputs": [
    {
     "data": {
      "text/plain": "     Ozone  Temp\n0     41.0    67\n1     36.0    72\n2     12.0    74\n3     18.0    62\n4     28.0    66\n..     ...   ...\n111   14.0    63\n112   30.0    70\n113   14.0    75\n114   18.0    76\n115   20.0    68\n\n[116 rows x 2 columns]",
      "text/html": "<div>\n<style scoped>\n    .dataframe tbody tr th:only-of-type {\n        vertical-align: middle;\n    }\n\n    .dataframe tbody tr th {\n        vertical-align: top;\n    }\n\n    .dataframe thead th {\n        text-align: right;\n    }\n</style>\n<table border=\"1\" class=\"dataframe\">\n  <thead>\n    <tr style=\"text-align: right;\">\n      <th></th>\n      <th>Ozone</th>\n      <th>Temp</th>\n    </tr>\n  </thead>\n  <tbody>\n    <tr>\n      <th>0</th>\n      <td>41.0</td>\n      <td>67</td>\n    </tr>\n    <tr>\n      <th>1</th>\n      <td>36.0</td>\n      <td>72</td>\n    </tr>\n    <tr>\n      <th>2</th>\n      <td>12.0</td>\n      <td>74</td>\n    </tr>\n    <tr>\n      <th>3</th>\n      <td>18.0</td>\n      <td>62</td>\n    </tr>\n    <tr>\n      <th>4</th>\n      <td>28.0</td>\n      <td>66</td>\n    </tr>\n    <tr>\n      <th>...</th>\n      <td>...</td>\n      <td>...</td>\n    </tr>\n    <tr>\n      <th>111</th>\n      <td>14.0</td>\n      <td>63</td>\n    </tr>\n    <tr>\n      <th>112</th>\n      <td>30.0</td>\n      <td>70</td>\n    </tr>\n    <tr>\n      <th>113</th>\n      <td>14.0</td>\n      <td>75</td>\n    </tr>\n    <tr>\n      <th>114</th>\n      <td>18.0</td>\n      <td>76</td>\n    </tr>\n    <tr>\n      <th>115</th>\n      <td>20.0</td>\n      <td>68</td>\n    </tr>\n  </tbody>\n</table>\n<p>116 rows × 2 columns</p>\n</div>"
     },
     "metadata": {},
     "output_type": "execute_result",
     "execution_count": 6
    }
   ],
   "source": [
    "df = df[['Ozone', 'Temp']]\n",
    "df = df.dropna()\n",
    "df = df.reset_index(drop=True)\n",
    "df"
   ],
   "metadata": {
    "collapsed": false,
    "pycharm": {
     "name": "#%%\n",
     "is_executing": false
    }
   }
  },
  {
   "cell_type": "markdown",
   "source": [
    "Let's look at the joint distribution of the Ozone and Temperature"
   ],
   "metadata": {
    "collapsed": false,
    "pycharm": {
     "name": "#%% md\n"
    }
   }
  },
  {
   "cell_type": "code",
   "execution_count": 7,
   "outputs": [
    {
     "data": {
      "text/plain": "<Figure size 432x432 with 3 Axes>",
      "image/png": "[encoded data removed]"
     },
     "metadata": {
      "needs_background": "light"
     },
     "output_type": "display_data"
    }
   ],
   "source": [
    "sns.jointplot(x=df['Temp'], y=df['Ozone'], kind='scatter', cmap=\"viridis\")\n",
    "plt.show()"
   ],
   "metadata": {
    "collapsed": false,
    "pycharm": {
     "name": "#%%\n",
     "is_executing": false
    }
   }
  },
  {
   "cell_type": "markdown",
   "source": [
    "To estimate the Pearson correlation, we can use the convenience function `Bigsimr.cor_fast`."
   ],
   "metadata": {
    "collapsed": false
   }
  },
  {
   "cell_type": "code",
   "execution_count": 8,
   "outputs": [
    {
     "name": "stdout",
     "text": [
      "Correlation of input data:\n"
     ],
     "output_type": "stream"
    },
    {
     "data": {
      "text/plain": "array([[1.        , 0.69836034],\n       [0.69836034, 1.        ]])"
     },
     "metadata": {},
     "output_type": "execute_result",
     "execution_count": 8
    }
   ],
   "source": [
    "rho = Bigsimr.cor_fast(df.values)\n",
    "print('Correlation of input data:')\n",
    "rho"
   ],
   "metadata": {
    "collapsed": false,
    "pycharm": {
     "name": "#%%\n",
     "is_executing": false
    }
   }
  },
  {
   "cell_type": "markdown",
   "source": [
    "Next, we can estimate the marginal parameters, assuming that `Temperature` is normally distributed, and `Ozone` is log-normally distributed."
   ],
   "metadata": {
    "collapsed": false,
    "pycharm": {
     "name": "#%% md\n"
    }
   }
  },
  {
   "cell_type": "code",
   "execution_count": 9,
   "outputs": [
    {
     "name": "stdout",
     "text": [
      "Ozone summary: logmean = 3.42, logsd = 0.86\n",
      "Temperature summary: mean = 77.87, sd = 9.44\n"
     ],
     "output_type": "stream"
    }
   ],
   "source": [
    "ozone = df['Ozone'].values\n",
    "print('Ozone summary: logmean = {0:.2f}, logsd = {1:.2f}'.format(\n",
    "    np.mean(np.log(ozone)), \n",
    "    np.std(np.log(ozone))\n",
    "))\n",
    "\n",
    "temp = df['Temp'].values\n",
    "print('Temperature summary: mean = {0:.2f}, sd = {1:.2f}'.format(\n",
    "    np.mean(temp), \n",
    "    np.std(temp)\n",
    "))"
   ],
   "metadata": {
    "collapsed": false,
    "pycharm": {
     "name": "#%%\n",
     "is_executing": false
    }
   }
  },
  {
   "cell_type": "code",
   "execution_count": 10,
   "outputs": [],
   "source": [
    "#Define margins\n",
    "margins = [\n",
    "    Distributions.LogNormal(3.42, 0.86),\n",
    "    Distributions.Normal(77.84, 9.44)\n",
    "]"
   ],
   "metadata": {
    "collapsed": false,
    "pycharm": {
     "name": "#%%\n",
     "is_executing": false
    }
   }
  },
  {
   "cell_type": "markdown",
   "source": [
    "Next, we can generate the simulated data with or without Pearson matching. The data simulated with Pearson matching has correlation closer to the real data."
   ],
   "metadata": {
    "collapsed": false,
    "pycharm": {
     "name": "#%% md\n"
    }
   }
  },
  {
   "cell_type": "code",
   "execution_count": 11,
   "outputs": [
    {
     "name": "stdout",
     "text": [
      "Correlation of simulated data without Pearson matching:\n",
      "[[1.         0.57424863]\n",
      " [0.57424863 1.        ]]\n"
     ],
     "output_type": "stream"
    }
   ],
   "source": [
    "rv = Bigsimr.rvec(10000, rho, margins)\n",
    "\n",
    "print('Correlation of simulated data without Pearson matching:')\n",
    "print(Bigsimr.cor_fast(rv))"
   ],
   "metadata": {
    "collapsed": false,
    "pycharm": {
     "name": "#%%\n",
     "is_executing": false
    }
   }
  },
  {
   "cell_type": "code",
   "execution_count": 12,
   "outputs": [
    {
     "name": "stdout",
     "text": [
      "Correlation of simulated data with Pearson matching:\n",
      "[[1.         0.70464789]\n",
      " [0.70464789 1.        ]]\n"
     ],
     "output_type": "stream"
    }
   ],
   "source": [
    "D = Bigsimr.MvDistribution(rho, margins, Bigsimr.Pearson)\n",
    "D = Bigsimr.pearson_match(D)\n",
    "rho_match = Bigsimr.cor_convert(Bigsimr.cor(D), Bigsimr.cortype(D), Bigsimr.Pearson)\n",
    "rho_match = Bigsimr.cor_nearPD(rho_match)\n",
    "rv = Bigsimr.rvec(10000, rho_match, Bigsimr.margins(D))\n",
    "\n",
    "print('Correlation of simulated data with Pearson matching:')\n",
    "print(Bigsimr.cor_fast(rv))"
   ],
   "metadata": {
    "collapsed": false,
    "pycharm": {
     "name": "#%%\n",
     "is_executing": false
    }
   }
  },
  {
   "cell_type": "code",
   "execution_count": 13,
   "outputs": [
    {
     "data": {
      "text/plain": "<Figure size 432x432 with 3 Axes>",
      "image/png": "[encoded data removed]"
     },
     "metadata": {
      "needs_background": "light"
     },
     "output_type": "display_data"
    }
   ],
   "source": [
    "rv = rv[(rv[:,0]>0) & (rv[:,0]<ozone.max()) & (rv[:,1]>0) & (rv[:,1]<temp.max()), :]\n",
    "\n",
    "sns.jointplot(x=rv[:,1], y=rv[:,0], kind='kde', cmap=\"viridis\", fill=True, thresh=0, levels=20)\n",
    "plt.show()"
   ],
   "metadata": {
    "collapsed": false,
    "pycharm": {
     "name": "#%%\n",
     "is_executing": false
    }
   }
  },
  {
   "cell_type": "markdown",
   "source": [
    "We can compare the bivariate distribution above to one where no correlation is taken into account."
   ],
   "metadata": {
    "collapsed": false,
    "pycharm": {
     "name": "#%% md\n"
    }
   }
  },
  {
   "cell_type": "code",
   "execution_count": 14,
   "outputs": [
    {
     "data": {
      "text/plain": "<Figure size 432x432 with 3 Axes>",
      "image/png": "[encoded data removed]"
     },
     "metadata": {
      "needs_background": "light"
     },
     "output_type": "display_data"
    }
   ],
   "source": [
    "np.random.seed(1)\n",
    "rv = np.stack([\n",
    "    lognorm.rvs(size=10000, s=0.86, scale=np.exp(3.42)),\n",
    "    norm.rvs(size=10000, loc=77.87, scale=9.44)\n",
    "], 1)\n",
    "\n",
    "rv = rv[(rv[:,0]>0) & (rv[:,0]<ozone.max()) & (rv[:,1]>0) & (rv[:,1]<temp.max()), :]\n",
    "\n",
    "sns.jointplot(x=rv[:,1], y=rv[:,0], kind='kde', cmap=\"viridis\", fill=True, thresh=0, levels=20)\n",
    "plt.show()"
   ],
   "metadata": {
    "collapsed": false,
    "pycharm": {
     "name": "#%%\n",
     "is_executing": false
    }
   }
  }
 ],
 "metadata": {
  "kernelspec": {
   "name": "python3",
   "language": "python",
   "display_name": "Python 3"
  },
  "language_info": {
   "codemirror_mode": {
    "name": "ipython",
    "version": 2
   },
   "file_extension": ".py",
   "mimetype": "text/x-python",
   "name": "python",
   "nbconvert_exporter": "python",
   "pygments_lexer": "ipython2",
   "version": "3.8.5-final"
  },
  "pycharm": {
   "stem_cell": {
    "cell_type": "raw",
    "source": [],
    "metadata": {
     "collapsed": false
    }
   }
  }
 },
 "nbformat": 4,
 "nbformat_minor": 0
}